{
 "cells": [
  {
   "cell_type": "code",
   "execution_count": null,
   "metadata": {},
   "outputs": [],
   "source": [
    "!pip install -q streamlit\n",
    "!pip install -q pyngrok\n",
    "!pip install -q cellpose\n",
    "!pip install -q stardist\n",
    "!pip install -q imageio"
   ]
  },
  {
   "cell_type": "code",
   "execution_count": null,
   "metadata": {},
   "outputs": [],
   "source": [
    "from pyngrok import ngrok \n",
    "public_url = ngrok.connect(port='8501')\n",
    "# public_url"
   ]
  },
  {
   "cell_type": "code",
   "execution_count": null,
   "metadata": {},
   "outputs": [],
   "source": [
    "!git clone https://github.com/lambda-science/HistoQuant-Streamlit.git app\n",
    "!wget https://lbgi.fr/~meyer/SDH_models/model.h5"
   ]
  },
  {
   "cell_type": "code",
   "execution_count": null,
   "metadata": {},
   "outputs": [],
   "source": [
    "!streamlit run /content/app/Home.py & npx localtunnel --port 8501"
   ]
  }
 ],
 "metadata": {
  "kernelspec": {
   "display_name": "Python 3.9.12 ('.venv': poetry)",
   "language": "python",
   "name": "python3"
  },
  "language_info": {
   "name": "python",
   "version": "3.9.12"
  },
  "orig_nbformat": 4,
  "vscode": {
   "interpreter": {
    "hash": "5a1eef8107d7238fe00f99b19ef7e37539ab844451142f55606a1888b3fed991"
   }
  }
 },
 "nbformat": 4,
 "nbformat_minor": 2
}
